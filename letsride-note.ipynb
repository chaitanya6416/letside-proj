{
  "metadata": {
    "language_info": {
      "codemirror_mode": {
        "name": "python",
        "version": 3
      },
      "file_extension": ".py",
      "mimetype": "text/x-python",
      "name": "python",
      "nbconvert_exporter": "python",
      "pygments_lexer": "ipython3",
      "version": "3.8"
    },
    "kernelspec": {
      "name": "python",
      "display_name": "Python (Pyodide)",
      "language": "python"
    }
  },
  "nbformat_minor": 4,
  "nbformat": 4,
  "cells": [
    {
      "cell_type": "code",
      "source": "LIST OF ALL APIS:\n    \n1. rider/rider_form/\n2. rider/riders_list/\n3. requester/requester_form/\n4. requester/requester_list/\n5. requester/apply/\n6. match/\n",
      "metadata": {
        "trusted": true
      },
      "execution_count": null,
      "outputs": []
    },
    {
      "cell_type": "code",
      "source": "API 1\nrider/rider_form/\nTakes POST request\n{\n        \"name\": \"Sachin\",\n        \"start_location\": \"Hyd\",\n        \"end_location\": \"Bangalore\",\n        \"date_of_travel\": \"20220907\",\n        \"travel_medium\": \"bus\",\n        \"phone_number\": \"78888\"\n}\nNote: travel_medium is restricted",
      "metadata": {},
      "execution_count": null,
      "outputs": []
    },
    {
      "cell_type": "code",
      "source": "API 2\nrider/riders_list/\nreturns all records of riders",
      "metadata": {},
      "execution_count": null,
      "outputs": []
    },
    {
      "cell_type": "code",
      "source": "API 3\nrequester/requester_form/\n {\n       \n        \"name\": \"Teja\",\n        \"start_location\": \"Hyd\",\n        \"end_location\": \"Bangalore\",\n        \"date_of_travel\": \"20220907\",\n        \"asset_type\": \"package\",\n        \"sensitivity\": \"normal\",\n        \"status\": \"pending\"\n}\nNote: asset_type, sensitivity, status are restricted entries.",
      "metadata": {},
      "execution_count": null,
      "outputs": []
    },
    {
      "cell_type": "code",
      "source": "API 4\nrequester/requester_list/\nreturns records of all requesters\n\nFilters: can be applied => asset_type, status.\n\nPaginator: default value set to 10. \n/?paginator_value=2&page=2 => hit this api to set paginator value to 2 and get records on page 2.",
      "metadata": {},
      "execution_count": null,
      "outputs": []
    },
    {
      "cell_type": "code",
      "source": "API 5\nrequester/apply/\nPOST\n{\n\"req_id\":5,\n\"rid_id\":6\n}\nmake this requester for requester with req_id to apply for rider with rid_id",
      "metadata": {},
      "execution_count": null,
      "outputs": []
    },
    {
      "cell_type": "code",
      "source": "API 6\nmatch/\nreturns list of all possible matchings.\n\nLast column also contains the application_status => [Applied, Not Applied]",
      "metadata": {},
      "execution_count": null,
      "outputs": []
    },
    {
      "cell_type": "code",
      "source": "",
      "metadata": {},
      "execution_count": null,
      "outputs": []
    },
    {
      "cell_type": "code",
      "source": "",
      "metadata": {},
      "execution_count": null,
      "outputs": []
    },
    {
      "cell_type": "code",
      "source": "",
      "metadata": {},
      "execution_count": null,
      "outputs": []
    }
  ]
}